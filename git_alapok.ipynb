{
 "metadata": {
  "name": "",
  "signature": "sha256:ca1bb5affa8569ef1f349a8d12759e54ef6443feecbd85ca37d4faf78c8c8234"
 },
 "nbformat": 3,
 "nbformat_minor": 0,
 "worksheets": [
  {
   "cells": [
    {
     "cell_type": "markdown",
     "metadata": {},
     "source": [
      "#Git alapok!\n"
     ]
    },
    {
     "cell_type": "markdown",
     "metadata": {},
     "source": [
      "Git konfigur\u00e1l\u00e1sa:\n",
      "\n",
      "Haszn\u00e1latba veszem az \u00faj laptopomat, bejelentkezek.<br>\n",
      "Alapok be\u00e1llit\u00e1sa! <br>\n",
      "git config -- global user.name \"Magyarosi M\u00e1rton\"\n",
      "\n"
     ]
    },
    {
     "cell_type": "code",
     "collapsed": false,
     "input": [
      "!git config --global user.name \"Magyarosi M\u00e1rton\""
     ],
     "language": "python",
     "metadata": {},
     "outputs": []
    },
    {
     "cell_type": "markdown",
     "metadata": {},
     "source": [
      "Email c\u00edm be\u00e1llit\u00e1sa:<br>\n",
      "git config --global user.email \"magyarosi.marton.z@gmail.com\""
     ]
    },
    {
     "cell_type": "code",
     "collapsed": false,
     "input": [
      "!git config --global user.email \"magyarosi.marton.z@gmail.com\""
     ],
     "language": "python",
     "metadata": {},
     "outputs": []
    },
    {
     "cell_type": "markdown",
     "metadata": {},
     "source": [
      "A k\u00f6nyvt\u00e1rak hely\u00e9nek l\u00e9trehoz\u00e1sa: git init<br>\n",
      "ez csin\u00e1l egy .git rejtett k\u00f6nyvt\u00e1rat.<br>\n",
      "ls -a"
     ]
    },
    {
     "cell_type": "code",
     "collapsed": false,
     "input": [
      "!git init&&ls -a"
     ],
     "language": "python",
     "metadata": {},
     "outputs": []
    },
    {
     "cell_type": "markdown",
     "metadata": {},
     "source": [
      "#Kezd\u00e9s\n",
      "Csin\u00e1ljunk egy gitismeretek k\u00f6nyvt\u00e1rat mkdir gitismeretek"
     ]
    },
    {
     "cell_type": "code",
     "collapsed": false,
     "input": [
      "!mkdir gitismeretek"
     ],
     "language": "python",
     "metadata": {},
     "outputs": [],
     "prompt_number": 4
    },
    {
     "cell_type": "code",
     "collapsed": false,
     "input": [],
     "language": "python",
     "metadata": {},
     "outputs": [],
     "prompt_number": 10
    },
    {
     "cell_type": "code",
     "collapsed": false,
     "input": [],
     "language": "python",
     "metadata": {},
     "outputs": [],
     "prompt_number": 14
    },
    {
     "cell_type": "code",
     "collapsed": false,
     "input": [],
     "language": "python",
     "metadata": {},
     "outputs": []
    }
   ],
   "metadata": {}
  }
 ]
}