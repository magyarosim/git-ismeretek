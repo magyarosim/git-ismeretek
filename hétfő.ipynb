{
 "cells": [
  {
   "cell_type": "markdown",
   "metadata": {},
   "source": [
    "\n",
    "Git alapok!\n",
    "\n",
    "Git konfigurálása:\n",
    "\n",
    "Használatba veszem az új laptopomat, bejelentkezek.\n",
    "Alapok beállitása!\n",
    "git config -- global user.name \"Magyarosi Márton\"\n"
   ]
  },
  {
   "cell_type": "code",
   "execution_count": 2,
   "metadata": {},
   "outputs": [],
   "source": [
    "!git config --global user.name \"Magyarosi Márton\""
   ]
  },
  {
   "cell_type": "markdown",
   "metadata": {},
   "source": [
    "Email cím beállitása:\n",
    "git config --global user.email \"magyarosi.marton.z@gmail.com\""
   ]
  },
  {
   "cell_type": "code",
   "execution_count": 3,
   "metadata": {},
   "outputs": [],
   "source": [
    "!git config --global user.email \"magyarosi.marton.z@gmail.com\""
   ]
  },
  {
   "cell_type": "markdown",
   "metadata": {},
   "source": [
    "A globális értékek lekérdezése :"
   ]
  },
  {
   "cell_type": "code",
   "execution_count": 4,
   "metadata": {},
   "outputs": [
    {
     "name": "stdout",
     "output_type": "stream",
     "text": [
      "user.name=Magyarosi Márton\n",
      "user.email=magyarosi.marton.z@gmail.com\n"
     ]
    }
   ],
   "source": [
    "!git config --global -l"
   ]
  },
  {
   "cell_type": "markdown",
   "metadata": {},
   "source": [
    "Ezután Git adatbázist szeretnénk.<br>\n",
    "Git adatbázist csinálni egyszerű: a kívánt könyvtárban azt mondjuk, hogy:"
   ]
  },
  {
   "cell_type": "code",
   "execution_count": 5,
   "metadata": {},
   "outputs": [
    {
     "name": "stdout",
     "output_type": "stream",
     "text": [
      "Initialized empty Git repository in /home/jovyan/demo/.git/\n"
     ]
    }
   ],
   "source": [
    "!git init"
   ]
  },
  {
   "cell_type": "markdown",
   "metadata": {},
   "source": [
    "Ez létrehozza a könyvtárunkban a .git/ adatbázist."
   ]
  },
  {
   "cell_type": "markdown",
   "metadata": {},
   "source": [
    "Ki kell jelölnünk, hogy mely fileokat ajánljuk a Git figyelmébe:"
   ]
  },
  {
   "cell_type": "code",
   "execution_count": 8,
   "metadata": {},
   "outputs": [],
   "source": [
    "!git add . "
   ]
  },
  {
   "cell_type": "markdown",
   "metadata": {},
   "source": [
    "Ez minden filet oda ajánl neki de lehet csak bizonyos fileokat is!"
   ]
  },
  {
   "cell_type": "markdown",
   "metadata": {},
   "source": [
    "Ezután jöhet a "
   ]
  },
  {
   "cell_type": "code",
   "execution_count": null,
   "metadata": {},
   "outputs": [],
   "source": [
    "!git commit"
   ]
  },
  {
   "cell_type": "markdown",
   "metadata": {},
   "source": [
    "ekkor egy editort nyit meg, amibe pár szóval érdemes leírni mit dolgoztunk."
   ]
  },
  {
   "cell_type": "markdown",
   "metadata": {},
   "source": [
    "Most megadjuk a felhőnket ahová feltöltjük a munkáinkat"
   ]
  },
  {
   "cell_type": "code",
   "execution_count": 10,
   "metadata": {},
   "outputs": [],
   "source": [
    "!git remote add origin https://github.com/magyarosim"
   ]
  },
  {
   "cell_type": "markdown",
   "metadata": {},
   "source": [
    "Eztután már nem kell mindig pontos elérést megadni"
   ]
  },
  {
   "cell_type": "code",
   "execution_count": null,
   "metadata": {},
   "outputs": [],
   "source": [
    "!git push origin master"
   ]
  },
  {
   "cell_type": "markdown",
   "metadata": {},
   "source": [
    "Most a következő parancsall megtudjuk nézni a git történelmünk"
   ]
  },
  {
   "cell_type": "code",
   "execution_count": null,
   "metadata": {},
   "outputs": [],
   "source": [
    "!git log"
   ]
  },
  {
   "cell_type": "markdown",
   "metadata": {},
   "source": [
    "Ha egy filenak az elözö verzioját akarjuk megnézni akkor git checkout [file neve]\n"
   ]
  },
  {
   "cell_type": "code",
   "execution_count": null,
   "metadata": {},
   "outputs": [],
   "source": [
    "!git checkout "
   ]
  },
  {
   "cell_type": "code",
   "execution_count": null,
   "metadata": {},
   "outputs": [],
   "source": [
    "!git checkout master"
   ]
  },
  {
   "cell_type": "markdown",
   "metadata": {},
   "source": [
    "Ezzel pedig visszaállítja a legutóbb commitolt verziót a könyvtárunkban.\n"
   ]
  },
  {
   "cell_type": "code",
   "execution_count": 13,
   "metadata": {},
   "outputs": [
    {
     "name": "stdout",
     "output_type": "stream",
     "text": [
      "Counting objects: 69, done.\n",
      "Delta compression using up to 32 threads.\n",
      "Compressing objects: 100% (69/69), done.\n",
      "Writing objects: 100% (69/69), done.\n",
      "Total 69 (delta 9), reused 0 (delta 0)\n"
     ]
    }
   ],
   "source": [
    "!git gc "
   ]
  },
  {
   "cell_type": "code",
   "execution_count": null,
   "metadata": {},
   "outputs": [],
   "source": [
    "Ezzel peidg tisztitunk illetve tömö"
   ]
  }
 ],
 "metadata": {
  "kernelspec": {
   "display_name": "Python 3",
   "language": "python",
   "name": "python3"
  },
  "language_info": {
   "codemirror_mode": {
    "name": "ipython",
    "version": 3
   },
   "file_extension": ".py",
   "mimetype": "text/x-python",
   "name": "python",
   "nbconvert_exporter": "python",
   "pygments_lexer": "ipython3",
   "version": "3.6.4"
  }
 },
 "nbformat": 4,
 "nbformat_minor": 2
}
